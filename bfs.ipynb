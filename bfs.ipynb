{
 "cells": [
  {
   "cell_type": "markdown",
   "metadata": {},
   "source": [
    "# Breadth First Search"
   ]
  },
  {
   "cell_type": "code",
   "execution_count": 43,
   "metadata": {
    "pycharm": {
     "name": "#%%\n"
    }
   },
   "outputs": [],
   "source": [
    "import matplotlib.pyplot as plt\n",
    "from collections import deque\n",
    "import copy"
   ]
  },
  {
   "cell_type": "markdown",
   "metadata": {},
   "source": [
    "### Input matrix, 1 means blocked 0 is passable."
   ]
  },
  {
   "cell_type": "code",
   "execution_count": 44,
   "metadata": {
    "pycharm": {
     "name": "#%%\n"
    }
   },
   "outputs": [],
   "source": [
    "nodes = [\n",
    "  [0, 0, 0, 0, 0, 0],\n",
    "  [1, 0, 1, 1, 1, 0],\n",
    "  [0, 0, 0, 0, 0, 0],\n",
    "  [0, 1, 1, 0, 1, 1],\n",
    "  [0, 1, 1, 0, 1, 1],\n",
    "  [0, 0, 0, 0, 0, 0],\n",
    "]"
   ]
  },
  {
   "cell_type": "markdown",
   "source": [
    "### Node auxiliary class"
   ],
   "metadata": {
    "collapsed": false
   }
  },
  {
   "cell_type": "code",
   "source": [
    "class Node(object):\n",
    "  def __init__(self, col, row, val, changes_left=0):\n",
    "    self.col = col\n",
    "    self.row = row\n",
    "    self.val = val\n",
    "    self.coord = (self.row, self.col)\n",
    "    self.changes_left = changes_left\n",
    "    self.path = None\n",
    "\n",
    "  def __eq__(self, other):\n",
    "    return self.coord == other.coord\n",
    "    \n",
    "  def __repr__(self):\n",
    "    return \"(%s, %s, %s)\" % (self.row, self.col, self.val)\n",
    "\n",
    "  def get_path(self):\n",
    "    current = self\n",
    "    out = [current]\n",
    "    while current:\n",
    "      current = current.path\n",
    "      if current:\n",
    "        out.append(current)\n",
    "    return out"
   ],
   "metadata": {
    "collapsed": false,
    "pycharm": {
     "name": "#%%\n"
    }
   },
   "execution_count": 45,
   "outputs": []
  },
  {
   "cell_type": "markdown",
   "source": [
    "### Matrix auxiliary class"
   ],
   "metadata": {
    "collapsed": false
   }
  },
  {
   "cell_type": "code",
   "execution_count": 46,
   "outputs": [],
   "source": [
    "class Matrix(object):\n",
    "  def __init__(self, matrix):\n",
    "    self.matrix = matrix\n",
    "    self.row = len(matrix)\n",
    "    self.col = len(matrix[0])\n",
    "    self.nodes = {}\n",
    "    self.gen_nodes()\n",
    "\n",
    "  def plot_matrix(self, save=False, name=None):\n",
    "    plt.imshow(self.matrix)\n",
    "    plt.colorbar()\n",
    "    plt.show()\n",
    "    if save:\n",
    "      plt.imsave(\"%s.png\" % name or id(self), self.matrix)\n",
    "\n",
    "  def __getitem__(self, coord):\n",
    "    return self.nodes.get(coord, None)\n",
    "\n",
    "  def __setitem__(self, coord, node):\n",
    "    self.nodes[coord] = node\n",
    "    self.matrix[node.row][node.col] = node.val\n",
    "\n",
    "  def gen_nodes(self):\n",
    "    for row_idx, row in enumerate(self.matrix):\n",
    "      for col_idx, val in enumerate(row):\n",
    "        node = Node(col=col_idx, row=row_idx, val=val)\n",
    "        self.nodes[node.coord] = node\n",
    "    \n",
    "  def get_neighbors(self, node):\n",
    "    out = []\n",
    "    for row in [-1, 1]:\n",
    "      coord = (node.row + row, node.col)\n",
    "      n = self[coord]\n",
    "      if n:\n",
    "        out.append(n)\n",
    "            \n",
    "    for col in [-1, 1]:\n",
    "      coord = (node.row, node.col + col)\n",
    "      n = self.nodes.get(coord, None)\n",
    "      if n:\n",
    "        out.append(n)\n",
    "    return out"
   ],
   "metadata": {
    "collapsed": false,
    "pycharm": {
     "name": "#%%\n"
    }
   }
  },
  {
   "cell_type": "markdown",
   "source": [
    "### Breadth First Search method"
   ],
   "metadata": {
    "collapsed": false
   }
  },
  {
   "cell_type": "code",
   "execution_count": 47,
   "outputs": [],
   "source": [
    "def BFS(matrix, root, goal):\n",
    "  queue = deque([root])\n",
    "  seen = set([root.coord])\n",
    "  while queue:\n",
    "    v = queue.popleft()\n",
    "    if v == goal:\n",
    "      return v\n",
    "    for n in matrix.get_neighbors(v):\n",
    "      if n.val == 1:\n",
    "        continue\n",
    "      if n.coord not in seen:\n",
    "        seen.add(n.coord)\n",
    "        queue.append(n)\n",
    "        n.path = v\n",
    "  return None"
   ],
   "metadata": {
    "collapsed": false,
    "pycharm": {
     "name": "#%%\n"
    }
   }
  },
  {
   "cell_type": "markdown",
   "source": [
    "### Running the code"
   ],
   "metadata": {
    "collapsed": false
   }
  },
  {
   "cell_type": "code",
   "execution_count": 48,
   "outputs": [
    {
     "data": {
      "text/plain": "<Figure size 432x288 with 2 Axes>",
      "image/png": "[encoded data removed]"
     },
     "metadata": {
      "needs_background": "light"
     },
     "output_type": "display_data"
    },
    {
     "data": {
      "text/plain": "<Figure size 432x288 with 2 Axes>",
      "image/png": "[encoded data removed]"
     },
     "metadata": {
      "needs_background": "light"
     },
     "output_type": "display_data"
    }
   ],
   "source": [
    "matrix = Matrix(nodes)\n",
    "matrix.plot_matrix(save=True, name=\"before\")\n",
    "\n",
    "v = BFS(matrix, matrix[(0, 0)] , matrix[(matrix.row - 1, matrix.col - 1)])\n",
    "path = v.get_path()\n",
    "\n",
    "final_matrix = copy.deepcopy(matrix)\n",
    "for node in path:\n",
    "  copy_node = copy.deepcopy(node)\n",
    "  copy_node.val = 0.5\n",
    "  final_matrix[node.coord] = copy_node\n",
    "\n",
    "final_matrix.plot_matrix(save=True, name=\"after\")\n"
   ],
   "metadata": {
    "collapsed": false,
    "pycharm": {
     "name": "#%%\n"
    }
   }
  },
  {
   "cell_type": "code",
   "execution_count": 23,
   "metadata": {
    "pycharm": {
     "name": "#%%\n"
    }
   },
   "outputs": [
    {
     "data": {
      "image/png": "[encoded data removed]",
      "text/plain": [
       "<Figure size 432x288 with 2 Axes>"
      ]
     },
     "metadata": {
      "needs_background": "light"
     },
     "output_type": "display_data"
    },
    {
     "data": {
      "image/png": "[encoded data removed]",
      "text/plain": [
       "<Figure size 432x288 with 2 Axes>"
      ]
     },
     "metadata": {
      "needs_background": "light"
     },
     "output_type": "display_data"
    }
   ],
   "source": [
    "matrix = Matrix(nodes)\n",
    "matrix.plot_matrix(save=True)\n",
    "\n",
    "v = BFS(matrix, matrix[(0, 0)] , matrix[(matrix.row - 1, matrix.col - 1)])\n",
    "path = v.get_path()\n",
    "\n",
    "final_matrix = copy.deepcopy(matrix)\n",
    "for node in path:\n",
    "  copy_node = copy.deepcopy(node)\n",
    "  copy_node.val = 0.5\n",
    "  final_matrix[node.coord] = copy_node\n",
    "\n",
    "final_matrix.plot_matrix(save=True)\n"
   ]
  }
 ],
 "metadata": {
  "celltoolbar": "Slideshow",
  "kernelspec": {
   "display_name": "Python 3",
   "language": "python",
   "name": "python3"
  },
  "language_info": {
   "codemirror_mode": {
    "name": "ipython",
    "version": 3
   },
   "file_extension": ".py",
   "mimetype": "text/x-python",
   "name": "python",
   "nbconvert_exporter": "python",
   "pygments_lexer": "ipython3",
   "version": "3.8.2"
  }
 },
 "nbformat": 4,
 "nbformat_minor": 4
}